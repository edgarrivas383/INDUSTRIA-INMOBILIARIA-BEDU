{
 "cells": [
  {
   "cell_type": "code",
   "execution_count": 1,
   "metadata": {},
   "outputs": [],
   "source": [
    "import pandas as pd\n",
    "import numpy as np\n",
    "from matplotlib import pyplot as plt\n"
   ]
  },
  {
   "cell_type": "code",
   "execution_count": 2,
   "metadata": {},
   "outputs": [],
   "source": [
    "### Función para revisar la calidad del dataframe\n",
    "\n",
    "def quality_report(data):\n",
    "\n",
    "    \"\"\"This method will do a basic data quality report for a data frame\"\"\"\n",
    "        \n",
    "    if (type(data) != pd.core.frame.DataFrame):\n",
    "        raise TypeError(\"Data must be pandas.core.frame.DataFrame\")\n",
    "    else: \n",
    "        columns = list(data.columns.values)\n",
    "        data_type = pd.DataFrame(data.dtypes, columns=['Data type'])\n",
    "        missing_data = pd.DataFrame(\n",
    "        data.isnull().sum(), columns=['missing values'])\n",
    "        present_data = pd.DataFrame(data.count(), columns=['present values'])\n",
    "        unique_values = pd.DataFrame(columns=['unique values'])\n",
    "        minimum_values = pd.DataFrame(columns=['minimum values'])\n",
    "        max_values = pd.DataFrame(columns=['maximun values'])\n",
    "        \n",
    "        for i in columns:\n",
    "            unique_values.loc[i] = [data[i].nunique()]\n",
    "            try:\n",
    "                minimum_values.loc[i] = [data[i].min()]\n",
    "                max_values.loc[i] = [data[i].max()]\n",
    "            except:\n",
    "                pass\n",
    "        \n",
    "        DQ_report = data_type.join(missing_data).join(present_data).join(\n",
    "        unique_values).join(minimum_values).join(max_values)\n",
    "    \n",
    "    return DQ_report"
   ]
  },
  {
   "cell_type": "code",
   "execution_count": 3,
   "metadata": {
    "scrolled": true
   },
   "outputs": [
    {
     "data": {
      "text/html": [
       "<div>\n",
       "<style scoped>\n",
       "    .dataframe tbody tr th:only-of-type {\n",
       "        vertical-align: middle;\n",
       "    }\n",
       "\n",
       "    .dataframe tbody tr th {\n",
       "        vertical-align: top;\n",
       "    }\n",
       "\n",
       "    .dataframe thead th {\n",
       "        text-align: right;\n",
       "    }\n",
       "</style>\n",
       "<table border=\"1\" class=\"dataframe\">\n",
       "  <thead>\n",
       "    <tr style=\"text-align: right;\">\n",
       "      <th></th>\n",
       "      <th>Inmueble</th>\n",
       "      <th>Municipio</th>\n",
       "      <th>Precio</th>\n",
       "      <th>Colonia</th>\n",
       "      <th>Metros cuadrados de terreno</th>\n",
       "      <th>Metros cuadrados de construcción</th>\n",
       "    </tr>\n",
       "  </thead>\n",
       "  <tbody>\n",
       "    <tr>\n",
       "      <th>0</th>\n",
       "      <td>Casa</td>\n",
       "      <td>TLAJOMULCO</td>\n",
       "      <td>380000</td>\n",
       "      <td>NaN</td>\n",
       "      <td>75.0</td>\n",
       "      <td>5233.0</td>\n",
       "    </tr>\n",
       "    <tr>\n",
       "      <th>1</th>\n",
       "      <td>Casa</td>\n",
       "      <td>TLAJOMULCO</td>\n",
       "      <td>398000</td>\n",
       "      <td>NaN</td>\n",
       "      <td>80.0</td>\n",
       "      <td>5266.0</td>\n",
       "    </tr>\n",
       "    <tr>\n",
       "      <th>2</th>\n",
       "      <td>Casa</td>\n",
       "      <td>TLAQUEPAQUE</td>\n",
       "      <td>1730000</td>\n",
       "      <td>NaN</td>\n",
       "      <td>13484.0</td>\n",
       "      <td>NaN</td>\n",
       "    </tr>\n",
       "    <tr>\n",
       "      <th>3</th>\n",
       "      <td>Casa</td>\n",
       "      <td>GUADALAJARA</td>\n",
       "      <td>2650000</td>\n",
       "      <td>NaN</td>\n",
       "      <td>NaN</td>\n",
       "      <td>NaN</td>\n",
       "    </tr>\n",
       "    <tr>\n",
       "      <th>4</th>\n",
       "      <td>Departamento</td>\n",
       "      <td>TLAJOMULCO</td>\n",
       "      <td>390000</td>\n",
       "      <td>NaN</td>\n",
       "      <td>4444.0</td>\n",
       "      <td>4815.0</td>\n",
       "    </tr>\n",
       "  </tbody>\n",
       "</table>\n",
       "</div>"
      ],
      "text/plain": [
       "       Inmueble    Municipio   Precio Colonia  Metros cuadrados de terreno  \\\n",
       "0          Casa   TLAJOMULCO   380000     NaN                         75.0   \n",
       "1          Casa   TLAJOMULCO   398000     NaN                         80.0   \n",
       "2          Casa  TLAQUEPAQUE  1730000     NaN                      13484.0   \n",
       "3          Casa  GUADALAJARA  2650000     NaN                          NaN   \n",
       "4  Departamento   TLAJOMULCO   390000     NaN                       4444.0   \n",
       "\n",
       "   Metros cuadrados de construcción  \n",
       "0                            5233.0  \n",
       "1                            5266.0  \n",
       "2                               NaN  \n",
       "3                               NaN  \n",
       "4                            4815.0  "
      ]
     },
     "execution_count": 3,
     "metadata": {},
     "output_type": "execute_result"
    }
   ],
   "source": [
    "metros_cuadrados = 'metros_cuadrados.xlsx'\n",
    "metros_2 = pd.read_excel(metros_cuadrados)\n",
    "metros_2.head()\n"
   ]
  },
  {
   "cell_type": "code",
   "execution_count": 4,
   "metadata": {
    "scrolled": true
   },
   "outputs": [
    {
     "data": {
      "text/html": [
       "<div>\n",
       "<style scoped>\n",
       "    .dataframe tbody tr th:only-of-type {\n",
       "        vertical-align: middle;\n",
       "    }\n",
       "\n",
       "    .dataframe tbody tr th {\n",
       "        vertical-align: top;\n",
       "    }\n",
       "\n",
       "    .dataframe thead th {\n",
       "        text-align: right;\n",
       "    }\n",
       "</style>\n",
       "<table border=\"1\" class=\"dataframe\">\n",
       "  <thead>\n",
       "    <tr style=\"text-align: right;\">\n",
       "      <th></th>\n",
       "      <th>Data type</th>\n",
       "      <th>missing values</th>\n",
       "      <th>present values</th>\n",
       "      <th>unique values</th>\n",
       "      <th>minimum values</th>\n",
       "      <th>maximun values</th>\n",
       "    </tr>\n",
       "  </thead>\n",
       "  <tbody>\n",
       "    <tr>\n",
       "      <th>Inmueble</th>\n",
       "      <td>object</td>\n",
       "      <td>0</td>\n",
       "      <td>16809</td>\n",
       "      <td>2</td>\n",
       "      <td>Casa</td>\n",
       "      <td>Departamento</td>\n",
       "    </tr>\n",
       "    <tr>\n",
       "      <th>Municipio</th>\n",
       "      <td>object</td>\n",
       "      <td>0</td>\n",
       "      <td>16809</td>\n",
       "      <td>6</td>\n",
       "      <td>EL SALTO</td>\n",
       "      <td>ZAPOPAN</td>\n",
       "    </tr>\n",
       "    <tr>\n",
       "      <th>Precio</th>\n",
       "      <td>int64</td>\n",
       "      <td>0</td>\n",
       "      <td>16809</td>\n",
       "      <td>3898</td>\n",
       "      <td>250000</td>\n",
       "      <td>94122000</td>\n",
       "    </tr>\n",
       "    <tr>\n",
       "      <th>Colonia</th>\n",
       "      <td>object</td>\n",
       "      <td>8982</td>\n",
       "      <td>7827</td>\n",
       "      <td>638</td>\n",
       "      <td>NaN</td>\n",
       "      <td>NaN</td>\n",
       "    </tr>\n",
       "    <tr>\n",
       "      <th>Metros cuadrados de terreno</th>\n",
       "      <td>float64</td>\n",
       "      <td>1842</td>\n",
       "      <td>14967</td>\n",
       "      <td>1152</td>\n",
       "      <td>50</td>\n",
       "      <td>14850</td>\n",
       "    </tr>\n",
       "    <tr>\n",
       "      <th>Metros cuadrados de construcción</th>\n",
       "      <td>float64</td>\n",
       "      <td>4529</td>\n",
       "      <td>12280</td>\n",
       "      <td>895</td>\n",
       "      <td>50</td>\n",
       "      <td>14722</td>\n",
       "    </tr>\n",
       "  </tbody>\n",
       "</table>\n",
       "</div>"
      ],
      "text/plain": [
       "                                 Data type  missing values  present values  \\\n",
       "Inmueble                            object               0           16809   \n",
       "Municipio                           object               0           16809   \n",
       "Precio                               int64               0           16809   \n",
       "Colonia                             object            8982            7827   \n",
       "Metros cuadrados de terreno        float64            1842           14967   \n",
       "Metros cuadrados de construcción   float64            4529           12280   \n",
       "\n",
       "                                 unique values minimum values maximun values  \n",
       "Inmueble                                     2           Casa   Departamento  \n",
       "Municipio                                    6       EL SALTO        ZAPOPAN  \n",
       "Precio                                    3898         250000       94122000  \n",
       "Colonia                                    638            NaN            NaN  \n",
       "Metros cuadrados de terreno               1152             50          14850  \n",
       "Metros cuadrados de construcción           895             50          14722  "
      ]
     },
     "execution_count": 4,
     "metadata": {},
     "output_type": "execute_result"
    }
   ],
   "source": [
    "## Revisando la calidad del dataframe\n",
    "\n",
    "quality_report(metros_2)"
   ]
  },
  {
   "cell_type": "code",
   "execution_count": 5,
   "metadata": {},
   "outputs": [
    {
     "data": {
      "text/html": [
       "<div>\n",
       "<style scoped>\n",
       "    .dataframe tbody tr th:only-of-type {\n",
       "        vertical-align: middle;\n",
       "    }\n",
       "\n",
       "    .dataframe tbody tr th {\n",
       "        vertical-align: top;\n",
       "    }\n",
       "\n",
       "    .dataframe thead th {\n",
       "        text-align: right;\n",
       "    }\n",
       "</style>\n",
       "<table border=\"1\" class=\"dataframe\">\n",
       "  <thead>\n",
       "    <tr style=\"text-align: right;\">\n",
       "      <th></th>\n",
       "      <th>Precio</th>\n",
       "      <th>Metros cuadrados de terreno</th>\n",
       "      <th>Metros cuadrados de construcción</th>\n",
       "    </tr>\n",
       "  </thead>\n",
       "  <tbody>\n",
       "    <tr>\n",
       "      <th>count</th>\n",
       "      <td>1.680900e+04</td>\n",
       "      <td>14967.000000</td>\n",
       "      <td>12280.000000</td>\n",
       "    </tr>\n",
       "    <tr>\n",
       "      <th>mean</th>\n",
       "      <td>5.967806e+06</td>\n",
       "      <td>325.819479</td>\n",
       "      <td>285.319490</td>\n",
       "    </tr>\n",
       "    <tr>\n",
       "      <th>std</th>\n",
       "      <td>6.703072e+06</td>\n",
       "      <td>907.132283</td>\n",
       "      <td>709.579502</td>\n",
       "    </tr>\n",
       "    <tr>\n",
       "      <th>min</th>\n",
       "      <td>2.500000e+05</td>\n",
       "      <td>50.000000</td>\n",
       "      <td>50.000000</td>\n",
       "    </tr>\n",
       "    <tr>\n",
       "      <th>25%</th>\n",
       "      <td>2.250000e+06</td>\n",
       "      <td>99.000000</td>\n",
       "      <td>110.000000</td>\n",
       "    </tr>\n",
       "    <tr>\n",
       "      <th>50%</th>\n",
       "      <td>3.963000e+06</td>\n",
       "      <td>148.000000</td>\n",
       "      <td>170.000000</td>\n",
       "    </tr>\n",
       "    <tr>\n",
       "      <th>75%</th>\n",
       "      <td>6.698000e+06</td>\n",
       "      <td>269.000000</td>\n",
       "      <td>298.000000</td>\n",
       "    </tr>\n",
       "    <tr>\n",
       "      <th>max</th>\n",
       "      <td>9.412200e+07</td>\n",
       "      <td>14850.000000</td>\n",
       "      <td>14722.000000</td>\n",
       "    </tr>\n",
       "  </tbody>\n",
       "</table>\n",
       "</div>"
      ],
      "text/plain": [
       "             Precio  Metros cuadrados de terreno  \\\n",
       "count  1.680900e+04                 14967.000000   \n",
       "mean   5.967806e+06                   325.819479   \n",
       "std    6.703072e+06                   907.132283   \n",
       "min    2.500000e+05                    50.000000   \n",
       "25%    2.250000e+06                    99.000000   \n",
       "50%    3.963000e+06                   148.000000   \n",
       "75%    6.698000e+06                   269.000000   \n",
       "max    9.412200e+07                 14850.000000   \n",
       "\n",
       "       Metros cuadrados de construcción  \n",
       "count                      12280.000000  \n",
       "mean                         285.319490  \n",
       "std                          709.579502  \n",
       "min                           50.000000  \n",
       "25%                          110.000000  \n",
       "50%                          170.000000  \n",
       "75%                          298.000000  \n",
       "max                        14722.000000  "
      ]
     },
     "execution_count": 5,
     "metadata": {},
     "output_type": "execute_result"
    }
   ],
   "source": [
    "## Estadísticas generales\n",
    "\n",
    "metros_2.describe()"
   ]
  },
  {
   "cell_type": "code",
   "execution_count": 6,
   "metadata": {
    "scrolled": true
   },
   "outputs": [],
   "source": [
    "dataset = metros_2.fillna(0)"
   ]
  },
  {
   "cell_type": "code",
   "execution_count": 7,
   "metadata": {
    "scrolled": true
   },
   "outputs": [
    {
     "data": {
      "text/html": [
       "<div>\n",
       "<style scoped>\n",
       "    .dataframe tbody tr th:only-of-type {\n",
       "        vertical-align: middle;\n",
       "    }\n",
       "\n",
       "    .dataframe tbody tr th {\n",
       "        vertical-align: top;\n",
       "    }\n",
       "\n",
       "    .dataframe thead th {\n",
       "        text-align: right;\n",
       "    }\n",
       "</style>\n",
       "<table border=\"1\" class=\"dataframe\">\n",
       "  <thead>\n",
       "    <tr style=\"text-align: right;\">\n",
       "      <th></th>\n",
       "      <th>Municipio</th>\n",
       "      <th>Promedio</th>\n",
       "      <th>min</th>\n",
       "      <th>max</th>\n",
       "    </tr>\n",
       "  </thead>\n",
       "  <tbody>\n",
       "    <tr>\n",
       "      <th>0</th>\n",
       "      <td>Zapopan</td>\n",
       "      <td>336.564665</td>\n",
       "      <td>0.0</td>\n",
       "      <td>14850.0</td>\n",
       "    </tr>\n",
       "    <tr>\n",
       "      <th>1</th>\n",
       "      <td>GDL</td>\n",
       "      <td>183.011473</td>\n",
       "      <td>0.0</td>\n",
       "      <td>10203.0</td>\n",
       "    </tr>\n",
       "    <tr>\n",
       "      <th>2</th>\n",
       "      <td>Tlajomulco</td>\n",
       "      <td>532.498445</td>\n",
       "      <td>0.0</td>\n",
       "      <td>14769.0</td>\n",
       "    </tr>\n",
       "    <tr>\n",
       "      <th>3</th>\n",
       "      <td>El Salto</td>\n",
       "      <td>565.363636</td>\n",
       "      <td>0.0</td>\n",
       "      <td>6105.0</td>\n",
       "    </tr>\n",
       "    <tr>\n",
       "      <th>4</th>\n",
       "      <td>Tlaquepaque</td>\n",
       "      <td>217.590466</td>\n",
       "      <td>0.0</td>\n",
       "      <td>14009.0</td>\n",
       "    </tr>\n",
       "  </tbody>\n",
       "</table>\n",
       "</div>"
      ],
      "text/plain": [
       "     Municipio    Promedio  min      max\n",
       "0      Zapopan  336.564665  0.0  14850.0\n",
       "1          GDL  183.011473  0.0  10203.0\n",
       "2   Tlajomulco  532.498445  0.0  14769.0\n",
       "3     El Salto  565.363636  0.0   6105.0\n",
       "4  Tlaquepaque  217.590466  0.0  14009.0"
      ]
     },
     "execution_count": 7,
     "metadata": {},
     "output_type": "execute_result"
    }
   ],
   "source": [
    "## Creando datasets por municipio\n",
    "\n",
    "zapopan = dataset[dataset['Municipio']=='ZAPOPAN']\n",
    "tonala = dataset[dataset['Municipio']=='TONALA']\n",
    "guadalajara = dataset[dataset['Municipio']=='GUADALAJARA']\n",
    "tlaquepaque = dataset[dataset['Municipio']=='TLAQUEPAQUE']\n",
    "el_salto = dataset[dataset['Municipio']=='EL SALTO']\n",
    "tlajomulco = dataset[dataset['Municipio']=='TLAJOMULCO']\n",
    "\n",
    "\n",
    "metros_zapopan = zapopan['Metros cuadrados de terreno']\n",
    "promedio_zapopan = metros_zapopan.mean()\n",
    "min_zapopan = metros_zapopan.min()\n",
    "max_zapopan = metros_zapopan.max()\n",
    "\n",
    "metros_tonala = tonala['Metros cuadrados de terreno']\n",
    "promedio_tonala = metros_tonala.mean()\n",
    "min_tonala = metros_tonala.min()\n",
    "max_tonala = metros_tonala.max()\n",
    "\n",
    "metros_gdl = guadalajara['Metros cuadrados de terreno']\n",
    "promedio_gdl = metros_gdl.mean()\n",
    "min_gdl = metros_gdl.min()\n",
    "max_gdl = metros_gdl.max()\n",
    "\n",
    "metros_tlajo = tlajomulco['Metros cuadrados de terreno']\n",
    "promedio_tla = metros_tlajo.mean()\n",
    "min_tlajo = metros_tlajo.min()\n",
    "max_tlajo = metros_tlajo.max()\n",
    "\n",
    "metros_salto = el_salto['Metros cuadrados de terreno']\n",
    "promedio_salto = metros_salto.mean()\n",
    "min_salto = metros_salto.min()\n",
    "max_salto = metros_salto.max()\n",
    "\n",
    "metros_tlaque = tlaquepaque['Metros cuadrados de terreno']\n",
    "promedio_tlaque = metros_tlaque.mean()\n",
    "min_tlaque = metros_tlaque.min()\n",
    "max_tlaque = metros_tlaque.max()\n",
    "\n",
    "\n",
    "\n",
    "stats_metros = pd.DataFrame({'Municipio':('Zapopan','GDL', 'Tlajomulco', 'El Salto', 'Tlaquepaque'),\n",
    "                     'Promedio': (promedio_zapopan,promedio_gdl, promedio_tla, promedio_salto, promedio_tlaque),\n",
    "                     'min':(min_zapopan, min_gdl, min_tlajo, min_salto,min_tlaque),\n",
    "                     'max': (max_zapopan, max_gdl, max_tlajo, max_salto,max_tlaque)})\n",
    "stats_metros"
   ]
  },
  {
   "cell_type": "code",
   "execution_count": 8,
   "metadata": {},
   "outputs": [
    {
     "data": {
      "text/plain": [
       "0.0"
      ]
     },
     "execution_count": 8,
     "metadata": {},
     "output_type": "execute_result"
    }
   ],
   "source": [
    "min_zapopan"
   ]
  },
  {
   "cell_type": "code",
   "execution_count": 9,
   "metadata": {
    "scrolled": true
   },
   "outputs": [
    {
     "data": {
      "image/png": "[encoded data removed]",
      "text/plain": [
       "<Figure size 432x432 with 1 Axes>"
      ]
     },
     "metadata": {},
     "output_type": "display_data"
    }
   ],
   "source": [
    "plt.style.use('dark_background')\n",
    "fig,ax = plt.subplots(figsize = (6,6))\n",
    "promedio = ax.scatter(x=stats_metros['Municipio'],\n",
    "                     y = stats_metros['Promedio'],)\n",
    "\n",
    "\n",
    "ax.set(xlabel='Municipio',\n",
    "      ylabel = 'Promedio de metros cuadrados de terreno')\n",
    "fig.suptitle('Promedio metros cuadrados de terreno', fontsize=16, fontweight='bold');\n",
    "\n"
   ]
  },
  {
   "cell_type": "code",
   "execution_count": null,
   "metadata": {},
   "outputs": [],
   "source": []
  },
  {
   "cell_type": "code",
   "execution_count": 10,
   "metadata": {
    "scrolled": true
   },
   "outputs": [
    {
     "data": {
      "image/png": "[encoded data removed]",
      "text/plain": [
       "<Figure size 432x432 with 1 Axes>"
      ]
     },
     "metadata": {},
     "output_type": "display_data"
    }
   ],
   "source": [
    "plt.style.use('dark_background')\n",
    "fig,ax = plt.subplots(figsize = (6,6))\n",
    "promedio = ax.scatter(x=stats_metros['Municipio'],\n",
    "                     y = stats_metros['max'],)\n",
    "\n",
    "\n",
    "ax.set(xlabel='Municipio',\n",
    "      ylabel = 'Promedio de metros cuadrados de terreno')\n",
    "fig.suptitle('Máximo metros cuadrados de terreno', fontsize=16, fontweight='bold');\n"
   ]
  },
  {
   "cell_type": "markdown",
   "metadata": {},
   "source": [
    "#### Linear regression  precio/metros cuadrados de contruccion"
   ]
  },
  {
   "cell_type": "code",
   "execution_count": 11,
   "metadata": {},
   "outputs": [],
   "source": [
    "new_dataset = 'precio_metros.xlsx'\n",
    "new_data = pd.read_excel(new_dataset)\n",
    "new_data_fill = new_data.fillna(1)\n",
    "new_data_fill_2 = new_data_fill.drop('Metros cuadrados de terreno', axis=1)\n",
    "new_data_fill_2.tail(2)\n",
    "w = new_data_fill['Metros cuadrados de terreno']"
   ]
  },
  {
   "cell_type": "code",
   "execution_count": 12,
   "metadata": {},
   "outputs": [],
   "source": [
    "X = new_data_fill_2.drop('Metros cuadrados de construcción', axis = 1)\n",
    "y = new_data_fill_2['Metros cuadrados de construcción']"
   ]
  },
  {
   "cell_type": "code",
   "execution_count": 13,
   "metadata": {},
   "outputs": [],
   "source": [
    "from sklearn.linear_model import LinearRegression\n",
    "lr = LinearRegression()\n",
    "lr.fit(X,y)\n",
    "y_pred = lr.predict(X)"
   ]
  },
  {
   "cell_type": "code",
   "execution_count": 14,
   "metadata": {
    "scrolled": true
   },
   "outputs": [
    {
     "data": {
      "image/png": "[encoded data removed]",
      "text/plain": [
       "<Figure size 432x288 with 1 Axes>"
      ]
     },
     "metadata": {},
     "output_type": "display_data"
    }
   ],
   "source": [
    "plt.scatter(X,y)\n",
    "plt.plot(X, y_pred,color = 'r')\n",
    "plt.show()\n",
    "\n"
   ]
  },
  {
   "cell_type": "markdown",
   "metadata": {},
   "source": [
    "##### Linear regression precio/metros cuadrados de terreno"
   ]
  },
  {
   "cell_type": "code",
   "execution_count": 15,
   "metadata": {},
   "outputs": [],
   "source": [
    "\n",
    "\n",
    "from sklearn.linear_model import LinearRegression\n",
    "lr = LinearRegression()\n",
    "lr.fit(X,w)\n",
    "y_pred = lr.predict(X)"
   ]
  },
  {
   "cell_type": "code",
   "execution_count": 16,
   "metadata": {
    "scrolled": true
   },
   "outputs": [
    {
     "data": {
      "image/png": "[encoded data removed]",
      "text/plain": [
       "<Figure size 432x288 with 1 Axes>"
      ]
     },
     "metadata": {},
     "output_type": "display_data"
    }
   ],
   "source": [
    "plt.scatter(X,w)\n",
    "plt.plot(X, y_pred,color = 'r')\n",
    "plt.show()\n",
    "\n"
   ]
  },
  {
   "cell_type": "code",
   "execution_count": null,
   "metadata": {},
   "outputs": [],
   "source": []
  },
  {
   "cell_type": "code",
   "execution_count": null,
   "metadata": {
    "scrolled": true
   },
   "outputs": [],
   "source": []
  },
  {
   "cell_type": "code",
   "execution_count": null,
   "metadata": {},
   "outputs": [],
   "source": []
  },
  {
   "cell_type": "code",
   "execution_count": null,
   "metadata": {},
   "outputs": [],
   "source": []
  },
  {
   "cell_type": "code",
   "execution_count": null,
   "metadata": {},
   "outputs": [],
   "source": []
  }
 ],
 "metadata": {
  "kernelspec": {
   "display_name": "Python 3",
   "language": "python",
   "name": "python3"
  },
  "language_info": {
   "codemirror_mode": {
    "name": "ipython",
    "version": 3
   },
   "file_extension": ".py",
   "mimetype": "text/x-python",
   "name": "python",
   "nbconvert_exporter": "python",
   "pygments_lexer": "ipython3",
   "version": "3.7.6"
  }
 },
 "nbformat": 4,
 "nbformat_minor": 4
}
